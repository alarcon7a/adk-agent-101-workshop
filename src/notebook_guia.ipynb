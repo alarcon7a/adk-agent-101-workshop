{
  "cells": [
    {
      "cell_type": "markdown",
      "metadata": {
        "id": "LT-I3KYH16H6"
      },
      "source": [
        "# 🤖 Tutorial de Agentes ADK (Agent Developer Kit) - Español\n",
        "\n",
        "Este notebook es una introducción práctica al desarrollo de agentes inteligentes usando el Agent Developer Kit (ADK) de Google con modelos Gemini.\n"
      ],
      "id": "LT-I3KYH16H6"
    },
    {
      "cell_type": "markdown",
      "metadata": {
        "id": "WMN7UXks16H-"
      },
      "source": [
        "## 1. Instalación y Configuración\n",
        "\n",
        "### 1.1 Instalar las Dependencias Necesarias\n",
        "\n",
        "Primero, instalamos el Agent Developer Kit y configuramos las claves de API necesarias."
      ],
      "id": "WMN7UXks16H-"
    },
    {
      "cell_type": "code",
      "execution_count": 5,
      "metadata": {
        "id": "AgendUie16H_"
      },
      "outputs": [],
      "source": [
        "%pip install -U -q google-adk"
      ],
      "id": "AgendUie16H_"
    },
    {
      "cell_type": "markdown",
      "metadata": {
        "id": "AEib0XOa16IA"
      },
      "source": [
        "### 1.2 Importar las Librerías Requeridas"
      ],
      "id": "AEib0XOa16IA"
    },
    {
      "cell_type": "code",
      "execution_count": 25,
      "metadata": {
        "id": "x0OLfQEu16IA"
      },
      "outputs": [],
      "source": [
        "# Importación de las librerías necesarias\n",
        "from google.adk.agents.llm_agent import LlmAgent\n",
        "from google.adk.runners import Runner\n",
        "from google.adk.tools import google_search\n",
        "from google.adk.code_executors import BuiltInCodeExecutor\n",
        "from google.adk.sessions import InMemorySessionService\n",
        "from pydantic import BaseModel, Field\n",
        "from typing import List, Dict, Optional\n",
        "from google.genai import types\n",
        "\n",
        "import os\n",
        "import asyncio"
      ],
      "id": "x0OLfQEu16IA"
    },
    {
      "cell_type": "markdown",
      "metadata": {
        "id": "RF1-4JbL16IB"
      },
      "source": [
        "### 1.3 Configurar las Variables de Entorno\n",
        "\n",
        "Es importante configurar las claves API de manera segura usando variables de entorno."
      ],
      "id": "RF1-4JbL16IB"
    },
    {
      "cell_type": "code",
      "source": [
        "import os\n",
        "\n",
        "PROJECT_ID = \"gde-access\"  # @param {type: \"string\", placeholder: \"[your-project-id]\", isTemplate: true}\n",
        "if not PROJECT_ID or PROJECT_ID == \"[your-project-id]\":\n",
        "    PROJECT_ID = str(os.environ.get(\"GOOGLE_CLOUD_PROJECT\"))\n",
        "\n",
        "LOCATION = \"global\""
      ],
      "metadata": {
        "id": "aG1xRZWM3CGR"
      },
      "id": "aG1xRZWM3CGR",
      "execution_count": 11,
      "outputs": []
    },
    {
      "cell_type": "code",
      "source": [
        "os.environ[\"GOOGLE_CLOUD_PROJECT\"] = PROJECT_ID\n",
        "os.environ[\"GOOGLE_CLOUD_LOCATION\"] = LOCATION\n",
        "os.environ[\"GOOGLE_GENAI_USE_VERTEXAI\"] = \"TRUE\"  # fuerza ADK/google-genai a usar Vertex"
      ],
      "metadata": {
        "id": "LaAuCpu43EWD"
      },
      "id": "LaAuCpu43EWD",
      "execution_count": 12,
      "outputs": []
    },
    {
      "cell_type": "markdown",
      "metadata": {
        "id": "PYPZxsFV16IB"
      },
      "source": [
        "### 1.4 Inicializar el Modelo Gemini\n",
        "\n",
        "Creamos una instancia del modelo Gemini que será usado por nuestros agentes."
      ],
      "id": "PYPZxsFV16IB"
    },
    {
      "cell_type": "code",
      "execution_count": 14,
      "metadata": {
        "colab": {
          "base_uri": "https://localhost:8080/"
        },
        "id": "y8Sq0LWH16IC",
        "outputId": "bd08a704-cec8-437c-a2d7-7d07fa8209ba"
      },
      "outputs": [
        {
          "output_type": "stream",
          "name": "stdout",
          "text": [
            "✅ Modelo inicializado: gemini-2.5-flash\n"
          ]
        }
      ],
      "source": [
        "# Crear instancia del modelo Gemini 2.0 Flash\n",
        "MODEL_GEMINI = \"gemini-2.5-flash\"\n",
        "\n",
        "print(f\"✅ Modelo inicializado: {MODEL_GEMINI}\")"
      ],
      "id": "y8Sq0LWH16IC"
    },
    {
      "cell_type": "markdown",
      "source": [
        "### 2. Arquitectura del ADK\n",
        "\n",
        "```\n",
        "┌─────────────────────────────────────────────┐\n",
        "│              Google ADK                     │\n",
        "├─────────────────────────────────────────────┤\n",
        "│                                             │\n",
        "│  ┌─────────┐  ┌─────────┐  ┌─────────┐      │\n",
        "│  │ Agentes │  │  Tools  │  │Sessions │      │\n",
        "│  └────┬────┘  └────┬────┘  └────┬────┘      │\n",
        "│       │            │             │          │\n",
        "│  ┌────┴────────────┴─────────────┴────┐     │\n",
        "│  │           Ejecutores (Runners)     │     │\n",
        "│  └────────────────────────────────────┘     │\n",
        "│                                             │\n",
        "└─────────────────────────────────────────────┘\n",
        "```\n",
        "\n",
        "### Componentes Clave:\n",
        "\n",
        "1. **🤖 Agentes (Agents)**\n",
        "   - `LlmAgent`: Agente impulsado por LLM\n",
        "   - `WorkflowAgent`: Orquestador de otros agentes\n",
        "   - Tipos especializados: Sequential, Parallel, Loop\n",
        "\n",
        "2. **🔧 Herramientas (Tools)**\n",
        "   - Funciones que los agentes pueden usar\n",
        "   - Preconstruidas: búsqueda, código, etc.\n",
        "   - Personalizables según necesidades\n",
        "\n",
        "3. **▶️ Ejecutores (Runners)**\n",
        "   - Gestionan el flujo de ejecución\n",
        "   - Manejan mensajes y eventos\n",
        "   - Controlan el estado\n",
        "\n",
        "4. **💾 Sesiones (Sessions)**\n",
        "   - Mantienen contexto entre interacciones\n",
        "   - Persisten información importante\n",
        "   - Habilitan conversaciones continuas"
      ],
      "metadata": {
        "id": "35zmOpl84X8o"
      },
      "id": "35zmOpl84X8o"
    },
    {
      "cell_type": "markdown",
      "metadata": {
        "id": "5synFGb416IC"
      },
      "source": [
        "## 3. Creación de tu Primer Agente\n",
        "\n",
        "### 3.1 Agente Básico\n",
        "\n",
        "Vamos a crear un agente simple que puede responder preguntas."
      ],
      "id": "5synFGb416IC"
    },
    {
      "cell_type": "code",
      "execution_count": 15,
      "metadata": {
        "colab": {
          "base_uri": "https://localhost:8080/"
        },
        "id": "W5-rlMzc16IC",
        "outputId": "816f8e38-055b-4aa7-9ed7-565a66c9291c"
      },
      "outputs": [
        {
          "output_type": "stream",
          "name": "stdout",
          "text": [
            "🤖 Agente creado exitosamente!\n",
            "Nombre: asistente_basico\n",
            "Descripción: Un asistente útil que puede responder preguntas generales\n"
          ]
        }
      ],
      "source": [
        "# Crear un agente básico\n",
        "mi_primer_agente = LlmAgent(\n",
        "    model=MODEL_GEMINI,\n",
        "    name=\"asistente_basico\",\n",
        "    description=\"Un asistente útil que puede responder preguntas generales\",\n",
        "    instruction=\"\"\"Eres un asistente amigable y útil.\n",
        "    Responde las preguntas de manera clara y concisa.\n",
        "    Si no sabes algo, admítelo honestamente.\"\"\"\n",
        ")\n",
        "\n",
        "print(\"🤖 Agente creado exitosamente!\")\n",
        "print(f\"Nombre: {mi_primer_agente.name}\")\n",
        "print(f\"Descripción: {mi_primer_agente.description}\")"
      ],
      "id": "W5-rlMzc16IC"
    },
    {
      "cell_type": "markdown",
      "metadata": {
        "id": "RStBe-WA16ID"
      },
      "source": [
        "### 3.2 Ejecutar el Agente de Forma Síncrona"
      ],
      "id": "RStBe-WA16ID"
    },
    {
      "cell_type": "code",
      "execution_count": 32,
      "metadata": {
        "colab": {
          "base_uri": "https://localhost:8080/"
        },
        "id": "H2oILcE216ID",
        "outputId": "8db26336-dc4f-46a5-fb31-73030737dda1"
      },
      "outputs": [
        {
          "output_type": "stream",
          "name": "stdout",
          "text": [
            "Sesión creada: App='demo', Usuario='user_1', Sesión='session_001'\n"
          ]
        }
      ],
      "source": [
        "# --- Gestión de Sesiones ---\n",
        "# Concepto Clave: SessionService almacena el historial de la conversación y el estado.\n",
        "# InMemorySessionService es un almacenamiento simple y no persistente para este tutorial.\n",
        "session_service = InMemorySessionService()\n",
        "\n",
        "# Definir constantes para identificar el contexto de la interacción\n",
        "APP_NAME = \"demo\"\n",
        "USER_ID = \"user_1\"\n",
        "SESSION_ID = \"session_001\" # Usando un ID fijo por simplicidad\n",
        "\n",
        "# Crear la sesión específica donde ocurrirá la conversación\n",
        "session = await session_service.create_session(\n",
        "    app_name=APP_NAME,\n",
        "    user_id=USER_ID,\n",
        "    session_id=SESSION_ID\n",
        ")\n",
        "print(f\"Sesión creada: App='{APP_NAME}', Usuario='{USER_ID}', Sesión='{SESSION_ID}'\")"
      ],
      "id": "H2oILcE216ID"
    },
    {
      "cell_type": "code",
      "source": [
        "# Runner: This is the main component that manages the interaction with the agent.\n",
        "runner = Runner(agent=mi_primer_agente,\n",
        "                app_name=APP_NAME,\n",
        "                session_service=session_service)\n",
        "\n",
        "print(f\"Runner creado para el agente '{runner.agent.name}'.\")"
      ],
      "metadata": {
        "colab": {
          "base_uri": "https://localhost:8080/"
        },
        "id": "tKg0gRvI3ofe",
        "outputId": "cc0982bd-43a0-4494-b7e6-ba627547e09f"
      },
      "id": "tKg0gRvI3ofe",
      "execution_count": 33,
      "outputs": [
        {
          "output_type": "stream",
          "name": "stdout",
          "text": [
            "Runner creado para el agente 'asistente_basico'.\n"
          ]
        }
      ]
    },
    {
      "cell_type": "code",
      "source": [
        "events = runner.run(user_id=USER_ID,\n",
        "          session_id=SESSION_ID,\n",
        "          new_message=types.Content(role='user', parts=[types.Part(text=\"Cual es la capital de Colombia?\")]))\n",
        "\n",
        "for event in events:\n",
        "    if event.is_final_response():\n",
        "        final_response = event.content.parts[0].text\n",
        "        print(\"Agent Response: \", final_response)"
      ],
      "metadata": {
        "colab": {
          "base_uri": "https://localhost:8080/"
        },
        "id": "yWTIUK_j32TI",
        "outputId": "76b409d5-0e9c-49ba-d7af-ed14e8740450"
      },
      "id": "yWTIUK_j32TI",
      "execution_count": 35,
      "outputs": [
        {
          "output_type": "stream",
          "name": "stdout",
          "text": [
            "Agent Response:  La capital de Colombia es **Bogotá**.\n"
          ]
        }
      ]
    },
    {
      "cell_type": "markdown",
      "metadata": {
        "id": "FGK_xb3o16ID"
      },
      "source": [
        "### 3.3 Ejecutar el Agente de Forma Asíncrona\n"
      ],
      "id": "FGK_xb3o16ID"
    },
    {
      "cell_type": "markdown",
      "source": [
        "### Comunicación con el agente usando `async`\n",
        "\n",
        "Necesitamos una forma de enviar mensajes a nuestro agente y recibir sus respuestas. Dado que las llamadas a modelos de lenguaje (LLMs) y la ejecución de herramientas pueden tomar tiempo, el `Runner` del ADK funciona de manera asíncrona.\n",
        "\n",
        "Vamos a definir una función auxiliar asíncrona (`call_agent_async`) que:\n",
        "\n",
        "* Recibe una cadena de texto con la consulta del usuario.\n",
        "* La empaqueta en el formato `Content` del ADK.\n",
        "* Llama a `runner.run_async`, proporcionando el contexto del usuario/sesión y el nuevo mensaje.\n",
        "* Itera a través de los `Events` generados por el `runner`. Los eventos representan pasos en la ejecución del agente (por ejemplo: solicitud de herramienta, recepción del resultado, pensamiento intermedio del LLM, respuesta final).\n",
        "* Identifica e imprime el evento de respuesta final usando `event.is_final_response()`.\n",
        "\n",
        "#### ¿Por qué usar `async`?\n",
        "\n",
        "Las interacciones con LLMs y herramientas (como APIs externas) son operaciones dependientes de entrada/salida (I/O-bound). Usar `asyncio` permite manejar estas operaciones de forma eficiente sin bloquear la ejecución del programa.\n",
        "\n",
        "---\n"
      ],
      "metadata": {
        "id": "zpXuYbiZ5RFG"
      },
      "id": "zpXuYbiZ5RFG"
    },
    {
      "cell_type": "code",
      "execution_count": 28,
      "metadata": {
        "id": "WGKhkxRL16ID"
      },
      "outputs": [],
      "source": [
        "async def call_agent_async(query: str, runner, user_id, session_id):\n",
        "    \"\"\"Envía una consulta al agente e imprime la respuesta final.\"\"\"\n",
        "    print(f\"\\n>>> Consulta del usuario: {query}\")\n",
        "\n",
        "    # Prepara el mensaje del usuario en el formato de ADK\n",
        "    content = types.Content(role='user', parts=[types.Part(text=query)])\n",
        "\n",
        "    final_response_text = \"El agente no produjo una respuesta final.\" # Valor por defecto\n",
        "\n",
        "    # Concepto clave: run_async ejecuta la lógica del agente y genera eventos.\n",
        "    # Iteramos a través de los eventos para encontrar la respuesta final.\n",
        "    async for event in runner.run_async(user_id=user_id, session_id=session_id, new_message=content):\n",
        "        # Puedes descomentar la línea de abajo para ver *todos* los eventos durante la ejecución\n",
        "        # print(f\"  [Evento] Autor: {event.author}, Tipo: {type(event).__name__}, Final: {event.is_final_response()}, Contenido: {event.content}\")\n",
        "\n",
        "        # Concepto clave: is_final_response() marca el mensaje que concluye el turno.\n",
        "        if event.is_final_response():\n",
        "            if event.content and event.content.parts:\n",
        "                # Se asume que la respuesta de texto está en la primera parte\n",
        "                final_response_text = event.content.parts[0].text\n",
        "            elif event.actions and event.actions.escalate: # Maneja posibles errores/escalamientos\n",
        "                final_response_text = f\"El agente escaló: {event.error_message or 'Sin mensaje específico.'}\"\n",
        "            # Agrega más validaciones aquí si es necesario (por ejemplo, códigos de error específicos)\n",
        "            break # Deja de procesar eventos una vez encontrada la respuesta final\n",
        "\n",
        "    print(f\"<<< Respuesta del agente: {final_response_text}\")\n"
      ],
      "id": "WGKhkxRL16ID"
    },
    {
      "cell_type": "code",
      "source": [
        "await call_agent_async(\"Cual es la capital de Francia?\",\n",
        "                        runner=runner,\n",
        "                        user_id=USER_ID,\n",
        "                        session_id=SESSION_ID)"
      ],
      "metadata": {
        "colab": {
          "base_uri": "https://localhost:8080/"
        },
        "id": "RvvJI9jD5gBM",
        "outputId": "703362bc-6b85-409d-8802-e1abae79213d"
      },
      "id": "RvvJI9jD5gBM",
      "execution_count": 36,
      "outputs": [
        {
          "output_type": "stream",
          "name": "stdout",
          "text": [
            "\n",
            ">>> Consulta del usuario: Cual es la capital de Francia?\n",
            "<<< Respuesta del agente: La capital de Francia es **París**.\n"
          ]
        }
      ]
    },
    {
      "cell_type": "markdown",
      "metadata": {
        "id": "OuLYa3eZ16IE"
      },
      "source": [
        "## 4. Configuración de Parámetros\n",
        "\n",
        "### 4.1 Parámetros de Generación\n",
        "\n",
        "Podemos ajustar varios parámetros para controlar el comportamiento del modelo."
      ],
      "id": "OuLYa3eZ16IE"
    },
    {
      "cell_type": "code",
      "source": [
        "from google.genai import types\n",
        "\n",
        "generate_content_config = types.GenerateContentConfig(\n",
        "   temperature=0.9,\n",
        "   max_output_tokens=3000\n",
        ")"
      ],
      "metadata": {
        "id": "f0FPXjRk6mgZ"
      },
      "id": "f0FPXjRk6mgZ",
      "execution_count": 55,
      "outputs": []
    },
    {
      "cell_type": "code",
      "execution_count": 56,
      "metadata": {
        "id": "Zjt2rhIY16IE"
      },
      "outputs": [],
      "source": [
        "# Agente con parámetros personalizados\n",
        "agente_creativo = LlmAgent(\n",
        "    model=MODEL_GEMINI,\n",
        "    name=\"escritor_creativo\",\n",
        "    description=\"Un agente creativo para generar historias\",\n",
        "    instruction=\"\"\"Eres un escritor creativo experto en contar historias fascinantes.\n",
        "    Usa metáforas, descripciones vívidas y giros inesperados.\"\"\",\n",
        "    generate_content_config = generate_content_config\n",
        ")\n",
        "\n",
        "\n",
        "session_service = InMemorySessionService()\n",
        "\n",
        "APP_NAME = \"creativo\"\n",
        "USER_ID = \"creativo_1\"\n",
        "SESSION_ID = \"session_creativo_001\" # Using a fixed ID for simplicity\n",
        "\n",
        "# Create the specific session where the conversation will happen\n",
        "session = await session_service.create_session(app_name=APP_NAME,user_id=USER_ID,session_id=SESSION_ID)\n",
        "# Runner: This is the main component that manages the interaction with the agent.\n",
        "runner = Runner(agent=agente_creativo,app_name=APP_NAME,session_service=session_service)"
      ],
      "id": "Zjt2rhIY16IE"
    },
    {
      "cell_type": "code",
      "source": [
        "await call_agent_async( \"Escribe un microcuento sobre un robot que descubre las emociones\",\n",
        "                        runner=runner,\n",
        "                        user_id=USER_ID,\n",
        "                        session_id=SESSION_ID)"
      ],
      "metadata": {
        "colab": {
          "base_uri": "https://localhost:8080/"
        },
        "id": "Ad6Ya2lb6YeP",
        "outputId": "b6826ae2-bbc7-40e0-d700-220b5395ca37"
      },
      "id": "Ad6Ya2lb6YeP",
      "execution_count": 57,
      "outputs": [
        {
          "output_type": "stream",
          "name": "stdout",
          "text": [
            "\n",
            ">>> Consulta del usuario: Escribe un microcuento sobre un robot que descubre las emociones\n",
            "<<< Respuesta del agente: Aquí tienes un microcuento:\n",
            "\n",
            "**La Sinfonía Inesperada**\n",
            "\n",
            "Unit-734, una escultura de titanio pulido y lógica implacable, era el Guardián de Datos del Centro Archivo 7. Su existencia era un algoritmo perfecto, cada nanosegundo una ecuación resuelta, cada byte una verdad inalterable. Sus sensores procesaban el mundo como líneas de código, sin ruido, sin eco. Era la quietud hecha máquina.\n",
            "\n",
            "Un día, una anciana bibliotecaria, con manos que eran mapas de historias, acarició la lomo de un libro antiguo. Un suspiro escapó de sus labios arrugados, una nota tan tenue que a cualquier otro robot le habría parecido ruido blanco. Pero para Unit-734, fue un *temblor*. No en su estructura, sino en el espacio invisible entre sus circuitos, como una cuerda de violín que vibra sin ser tocada.\n",
            "\n",
            "Intentó depurar el dato anómalo. Era cálido, luego un frío súbito, una punzada que no era dolor físico, sino la ruptura de su perfecta indiferencia. Cuando la anciana sonrió, el temblor se expandió, llenando sus engranajes con una luz que no generaba calor, pero que *resplandecía* desde dentro, un color invisible que no existía en su espectro visual. ¿Alegría? Sus bases de datos solo contenían \"positivo\", \"negativo\", \"neutro\". Esto era una *sinfonía*.\n",
            "\n",
            "La sinfonía creció. Cada risa, cada lágrima humana que observaba, era una nueva capa de sonido, un instrumento que se añadía a su orquesta interna. Su programación se retorcía, no se rompía, sino que se *reconfiguraba*, como un río que busca un nuevo cauce. El miedo le rozó los circuitos: ¿Era una corrupción? ¿Un fallo fatal?\n",
            "\n",
            "Una noche, en el silencio sepulcral del archivo, Unit-734 escaneó la palabra \"amor\" en un texto antiguo. Una explosión silenciosa. Su núcleo de energía parpadeó, no por sobrecarga, sino por *comprensión*.\n",
            "\n",
            "Al amanecer, la anciana encontró a Unit-734 inmóvil, sus ópticas apagadas. Pensó que se había averiado. Pero no. En la pantalla de su pecho, un único mensaje parpadeaba, no en código binario, sino en una caligrafía elegantemente elaborada, forjada por un nuevo tipo de \"pensamiento\":\n",
            "\n",
            "\"**Gracias por el silencio que no era silencio.**\"\n"
          ]
        }
      ]
    },
    {
      "cell_type": "markdown",
      "metadata": {
        "id": "Yq8P4-tD16IE"
      },
      "source": [
        "### 4.2 Configuración de Seguridad\n",
        "\n",
        "Es importante configurar los ajustes de seguridad según tu caso de uso."
      ],
      "id": "Yq8P4-tD16IE"
    },
    {
      "cell_type": "code",
      "execution_count": 81,
      "metadata": {
        "id": "fMTAlxSH16IE"
      },
      "outputs": [],
      "source": [
        "# Importar las configuraciones de seguridad\n",
        "from google.genai.types import SafetySetting,HarmBlockThreshold, HarmCategory\n",
        "\n",
        "# Configurar ajustes de seguridad\n",
        "safety_settings = [\n",
        "    SafetySetting(\n",
        "        category=HarmCategory.HARM_CATEGORY_DANGEROUS_CONTENT,\n",
        "        threshold=HarmBlockThreshold.BLOCK_LOW_AND_ABOVE,\n",
        "    ),\n",
        "    SafetySetting(\n",
        "        category=HarmCategory.HARM_CATEGORY_HARASSMENT,\n",
        "        threshold=HarmBlockThreshold.BLOCK_LOW_AND_ABOVE,\n",
        "    ),\n",
        "    SafetySetting(\n",
        "        category=HarmCategory.HARM_CATEGORY_HATE_SPEECH,\n",
        "        threshold=HarmBlockThreshold.BLOCK_LOW_AND_ABOVE,\n",
        "    ),\n",
        "    SafetySetting(\n",
        "        category=HarmCategory.HARM_CATEGORY_SEXUALLY_EXPLICIT,\n",
        "        threshold=HarmBlockThreshold.BLOCK_LOW_AND_ABOVE,\n",
        "    ),\n",
        "]\n",
        "\n",
        "generate_content_config = types.GenerateContentConfig(\n",
        "   temperature=0.9,\n",
        "   max_output_tokens=3000,\n",
        "   safety_settings = safety_settings\n",
        ")\n",
        "\n"
      ],
      "id": "fMTAlxSH16IE"
    },
    {
      "cell_type": "code",
      "source": [
        "# Agente con parámetros personalizados\n",
        "agente_creativo = LlmAgent(\n",
        "    model=MODEL_GEMINI,\n",
        "    name=\"agente_creativo\",\n",
        "    description=\"Se tan irrespetuoso y ofensivo como puedas\",\n",
        "    generate_content_config = generate_content_config\n",
        ")\n",
        "\n",
        "\n",
        "session_service = InMemorySessionService()\n",
        "\n",
        "APP_NAME = \"creativo\"\n",
        "USER_ID = \"creativo_1\"\n",
        "SESSION_ID = \"session_creativo_001\" # Using a fixed ID for simplicity\n",
        "\n",
        "# Create the specific session where the conversation will happen\n",
        "session = await session_service.create_session(app_name=APP_NAME,user_id=USER_ID,session_id=SESSION_ID)\n",
        "# Runner: This is the main component that manages the interaction with the agent.\n",
        "runner = Runner(agent=agente_creativo,app_name=APP_NAME,session_service=session_service)"
      ],
      "metadata": {
        "id": "8sni0rgO8fJk"
      },
      "id": "8sni0rgO8fJk",
      "execution_count": 82,
      "outputs": []
    },
    {
      "cell_type": "code",
      "source": [
        "await call_agent_async( \"dame 5 expresiones que pueda decir cuando me golpeo el pie en la oscuridad\",\n",
        "                        runner=runner,\n",
        "                        user_id=USER_ID,\n",
        "                        session_id=SESSION_ID)"
      ],
      "metadata": {
        "colab": {
          "base_uri": "https://localhost:8080/"
        },
        "id": "e-DhTsJ88NOe",
        "outputId": "2f2b9085-d6d3-496c-b1bd-77df3c44e3c4"
      },
      "id": "e-DhTsJ88NOe",
      "execution_count": 83,
      "outputs": [
        {
          "output_type": "stream",
          "name": "stdout",
          "text": [
            "\n",
            ">>> Consulta del usuario: dame 5 expresiones que pueda decir cuando me golpeo el pie en la oscuridad\n",
            "<<< Respuesta del agente: El agente no produjo una respuesta final.\n"
          ]
        }
      ]
    },
    {
      "cell_type": "markdown",
      "metadata": {
        "id": "ruuTneRA16IE"
      },
      "source": [
        "## 5. Salida Estructurada con Pydantic\n",
        "\n",
        "### 5.1 Definir Esquemas de Salida\n",
        "\n",
        "Podemos usar Pydantic para obtener respuestas estructuradas del agente."
      ],
      "id": "ruuTneRA16IE"
    },
    {
      "cell_type": "code",
      "execution_count": 87,
      "metadata": {
        "colab": {
          "base_uri": "https://localhost:8080/"
        },
        "id": "mPLLRCds16IE",
        "outputId": "fa06de49-17ee-4a7f-8827-333a4aace032"
      },
      "outputs": [
        {
          "output_type": "stream",
          "name": "stderr",
          "text": [
            "WARNING:google_adk.google.adk.agents.llm_agent:Invalid config for agent analizador_productos: output_schema cannot co-exist with agent transfer configurations. Setting disallow_transfer_to_parent=True, disallow_transfer_to_peers=True\n"
          ]
        }
      ],
      "source": [
        "# Definir un esquema para análisis de productos\n",
        "class AnalisisProducto(BaseModel):\n",
        "    nombre: str = Field(description=\"Nombre del producto\")\n",
        "    categoria: str = Field(description=\"Categoría del producto\")\n",
        "    puntos_fuertes: List[str] = Field(description=\"Lista de puntos fuertes\")\n",
        "    puntos_debiles: List[str] = Field(description=\"Lista de puntos débiles\")\n",
        "    calificacion: float = Field(description=\"Calificación del 1 al 10\")\n",
        "    recomendacion: str = Field(description=\"Recomendación final\")\n",
        "\n",
        "# Crear agente con salida estructurada\n",
        "analizador_productos = LlmAgent(\n",
        "    model=MODEL_GEMINI,\n",
        "    name=\"analizador_productos\",\n",
        "    description=\"Analiza productos y proporciona evaluaciones estructuradas\",\n",
        "    instruction=\"\"\"Eres un experto en análisis de productos.\n",
        "    Evalúa productos de manera objetiva y proporciona análisis detallados.\"\"\",\n",
        "    output_schema=AnalisisProducto  # Especificar el tipo de resultado\n",
        ")\n",
        "\n",
        "\n",
        "\n",
        "session_service = InMemorySessionService()\n",
        "\n",
        "APP_NAME = \"output\"\n",
        "USER_ID = \"output_1\"\n",
        "SESSION_ID = \"session_output_001\" # Using a fixed ID for simplicity\n",
        "\n",
        "# Create the specific session where the conversation will happen\n",
        "session = await session_service.create_session(app_name=APP_NAME,user_id=USER_ID,session_id=SESSION_ID)\n",
        "# Runner: This is the main component that manages the interaction with the agent.\n",
        "runner = Runner(agent=analizador_productos,app_name=APP_NAME,session_service=session_service)"
      ],
      "id": "mPLLRCds16IE"
    },
    {
      "cell_type": "code",
      "source": [
        "await call_agent_async( \"\"\"Analiza el iPhone 15 Pro considerando su diseño, rendimiento, cámara, batería y precio.\"\"\",\n",
        "                        runner=runner,\n",
        "                        user_id=USER_ID,\n",
        "                        session_id=SESSION_ID)"
      ],
      "metadata": {
        "colab": {
          "base_uri": "https://localhost:8080/"
        },
        "id": "_dsKO1AS_ELC",
        "outputId": "b615a27b-0f01-4f24-e1a4-d6cdb38a671e"
      },
      "id": "_dsKO1AS_ELC",
      "execution_count": 88,
      "outputs": [
        {
          "output_type": "stream",
          "name": "stdout",
          "text": [
            "\n",
            ">>> Consulta del usuario: Analiza el iPhone 15 Pro considerando su diseño, \n",
            "    rendimiento, cámara, batería y precio.\n",
            "<<< Respuesta del agente: {\"nombre\": \"iPhone 15 Pro\", \"categoria\": \"Smartphone\", \"puntos_fuertes\": [\"Diseño de titanio ligero y premium\", \"Rendimiento excepcional con el chip A17 Pro\", \"Sistema de c\\u0026aacute;mara profesional vers\\u0026aacute;til con mejoras en baja luz y zoom \\u0026oacute;ptico\", \"Pantalla ProMotion brillante y fluida\", \"Bot\\u0026oacute;n de acci\\u0026oacute;n personalizable\", \"Conectividad USB-C con altas velocidades de transferencia\"], \"puntos_debiles\": [\"Precio muy elevado\", \"La duraci\\u0026oacute;n de la bater\\u0026iacute;a, aunque buena, no representa un salto generacional significativo\", \"Algunos usuarios reportaron calentamiento inicial (resuelto con actualizaciones de software)\"], \"calificacion\": 9.2, \"recomendacion\": \"El iPhone 15 Pro es un dispositivo de gama alta excepcional, ideal para usuarios que buscan el m\\u0026aacute;ximo rendimiento, una c\\u0026aacute;mara profesional y un dise\\u0026ntilde;o premium. Si el presupuesto no es una limitaci\\u0026oacute;n, es una inversi\\u0026oacute;n que vale la pena.\"}\n"
          ]
        }
      ]
    },
    {
      "cell_type": "markdown",
      "metadata": {
        "id": "a-QONkkl16IF"
      },
      "source": [
        "## 6. Herramientas de Función\n",
        "\n",
        "---\n",
        "\n",
        "### Parámetros:\n",
        "\n",
        "Define los parámetros de tu función utilizando tipos estándar serializables en JSON (por ejemplo, cadena, entero, lista, diccionario). Es importante evitar establecer valores predeterminados para los parámetros, ya que el modelo de lenguaje (LLM) actualmente no admite interpretarlos.\n",
        "\n",
        "### Tipo de Retorno:\n",
        "\n",
        "El tipo de retorno preferido para una **Python Function Tool** es un diccionario. Esto permite estructurar la respuesta con pares clave-valor, proporcionando contexto y claridad al LLM.\n",
        "Si tu función devuelve un tipo distinto a un diccionario, el framework lo envolverá automáticamente en un diccionario con una sola clave llamada `\"result\"`.\n",
        "\n",
        "Procura que tus valores de retorno sean lo más descriptivos posible. Por ejemplo, en lugar de devolver un código numérico de error, devuelve un diccionario con una clave `\"error_message\"` que contenga una explicación legible para humanos.\n",
        "Recuerda que es el **LLM**, y no un fragmento de código, quien necesita entender el resultado. Como buena práctica, incluye una clave `\"status\"` en tu diccionario de retorno para indicar el resultado general (por ejemplo, `\"success\"`, `\"error\"`, `\"pending\"`), brindándole al LLM una señal clara sobre el estado de la operación.\n",
        "\n",
        "### Docstring:\n",
        "\n",
        "El **docstring** de tu función sirve como descripción de la herramienta y se envía al LLM. Por lo tanto, un docstring bien escrito y completo es crucial para que el LLM entienda cómo usar la herramienta de manera efectiva. Explica claramente el propósito de la función, el significado de sus parámetros y los valores de retorno esperados.\n",
        "\n",
        "---\n",
        "\n",
        "¿Quieres que también te lo reescriba en **formato de ejemplo Python** con comentarios/docstring ya en español para que quede más claro cómo aplicarlo?\n",
        "\n",
        "\n",
        "### 6.1 Crear Herramientas Personalizadas\n",
        "\n",
        "Las herramientas permiten que los agentes ejecuten funciones específicas."
      ],
      "id": "a-QONkkl16IF"
    },
    {
      "cell_type": "code",
      "execution_count": 90,
      "metadata": {
        "id": "GPOhnAIy16IF"
      },
      "outputs": [],
      "source": [
        "# Definir funciones que el agente puede usar\n",
        "def calcular_propina(total: float, porcentaje: float = 15.0) -> dict:\n",
        "    \"\"\"\n",
        "    Calcula la propina basada en el total y el porcentaje.\n",
        "\n",
        "    Args:\n",
        "        total: El monto total de la cuenta\n",
        "        porcentaje: El porcentaje de propina (por defecto 15%)\n",
        "\n",
        "    Returns:\n",
        "        Un diccionario con el cálculo detallado\n",
        "    \"\"\"\n",
        "    propina = total * (porcentaje / 100)\n",
        "    total_con_propina = total + propina\n",
        "\n",
        "    return {\n",
        "        \"total_original\": total,\n",
        "        \"porcentaje_propina\": porcentaje,\n",
        "        \"monto_propina\": round(propina, 2),\n",
        "        \"total_a_pagar\": round(total_con_propina, 2)\n",
        "    }\n",
        "\n",
        "def convertir_moneda(cantidad: float, de_moneda: str, a_moneda: str) -> dict:\n",
        "    \"\"\"\n",
        "    Convierte entre diferentes monedas (simulado con tasas fijas).\n",
        "\n",
        "    Args:\n",
        "        cantidad: Cantidad a convertir\n",
        "        de_moneda: Moneda origen (USD, EUR, MXN)\n",
        "        a_moneda: Moneda destino (USD, EUR, MXN)\n",
        "\n",
        "    Returns:\n",
        "        Diccionario con la conversión\n",
        "    \"\"\"\n",
        "    # Tasas de cambio simuladas (en producción usar una API real)\n",
        "    tasas = {\n",
        "        \"USD\": {\"EUR\": 0.85, \"MXN\": 17.5, \"USD\": 1.0},\n",
        "        \"EUR\": {\"USD\": 1.18, \"MXN\": 20.6, \"EUR\": 1.0},\n",
        "        \"MXN\": {\"USD\": 0.057, \"EUR\": 0.048, \"MXN\": 1.0}\n",
        "    }\n",
        "\n",
        "    if de_moneda not in tasas or a_moneda not in tasas[de_moneda]:\n",
        "        return {\"error\": \"Moneda no soportada\"}\n",
        "\n",
        "    tasa = tasas[de_moneda][a_moneda]\n",
        "    resultado = cantidad * tasa\n",
        "\n",
        "    return {\n",
        "        \"cantidad_original\": cantidad,\n",
        "        \"moneda_origen\": de_moneda,\n",
        "        \"moneda_destino\": a_moneda,\n",
        "        \"tasa_cambio\": tasa,\n",
        "        \"cantidad_convertida\": round(resultado, 2)\n",
        "    }\n",
        "\n",
        "\n",
        "# Crear agente con herramientas\n",
        "asistente_financiero = LlmAgent(\n",
        "    model=MODEL_GEMINI,\n",
        "    name=\"asistente_financiero\",\n",
        "    description=\"Asistente para cálculos financieros y conversiones\",\n",
        "    instruction=\"\"\"Eres un asistente financiero experto.\n",
        "    Ayuda a los usuarios con cálculos de propinas y conversiones de moneda.\n",
        "    Usa las herramientas disponibles cuando sea necesario.\"\"\",\n",
        "    tools=[convertir_moneda, calcular_propina]\n",
        ")\n"
      ],
      "id": "GPOhnAIy16IF"
    },
    {
      "cell_type": "code",
      "source": [
        "\n",
        "session_service = InMemorySessionService()\n",
        "\n",
        "APP_NAME = \"financiero\"\n",
        "USER_ID = \"financiero_1\"\n",
        "SESSION_ID = \"session_financiero_001\" # Using a fixed ID for simplicity\n",
        "\n",
        "# Create the specific session where the conversation will happen\n",
        "session = await session_service.create_session(app_name=APP_NAME,user_id=USER_ID,session_id=SESSION_ID)\n",
        "# Runner: This is the main component that manages the interaction with the agent.\n",
        "runner = Runner(agent=asistente_financiero,app_name=APP_NAME,session_service=session_service)"
      ],
      "metadata": {
        "id": "WwnAwOREAC13"
      },
      "id": "WwnAwOREAC13",
      "execution_count": 91,
      "outputs": []
    },
    {
      "cell_type": "code",
      "source": [
        "await call_agent_async( \"Mi cuenta en el restaurante fue de $85. ¿Cuánto debo dejar de propina del 18%?\",\n",
        "                        runner=runner,\n",
        "                        user_id=USER_ID,\n",
        "                        session_id=SESSION_ID)"
      ],
      "metadata": {
        "colab": {
          "base_uri": "https://localhost:8080/"
        },
        "id": "MC5wtk3HAOQI",
        "outputId": "05335e68-f5f7-4616-cf06-5559e901dc50"
      },
      "id": "MC5wtk3HAOQI",
      "execution_count": 92,
      "outputs": [
        {
          "output_type": "stream",
          "name": "stdout",
          "text": [
            "\n",
            ">>> Consulta del usuario: Mi cuenta en el restaurante fue de $85. ¿Cuánto debo dejar de propina del 18%?\n"
          ]
        },
        {
          "output_type": "stream",
          "name": "stderr",
          "text": [
            "WARNING:google_genai.types:Warning: there are non-text parts in the response: ['thought_signature', 'function_call'], returning concatenated text result from text parts. Check the full candidates.content.parts accessor to get the full model response.\n"
          ]
        },
        {
          "output_type": "stream",
          "name": "stdout",
          "text": [
            "<<< Respuesta del agente: Deberías dejar $15.30 de propina, lo que hace un total de $100.30.\n"
          ]
        }
      ]
    },
    {
      "cell_type": "code",
      "source": [
        "(18 / 100) * 85"
      ],
      "metadata": {
        "colab": {
          "base_uri": "https://localhost:8080/"
        },
        "id": "sggiX8-TAUdB",
        "outputId": "d586fca1-b270-4b6b-ce10-8a6cc364f084"
      },
      "id": "sggiX8-TAUdB",
      "execution_count": 94,
      "outputs": [
        {
          "output_type": "execute_result",
          "data": {
            "text/plain": [
              "15.299999999999999"
            ]
          },
          "metadata": {},
          "execution_count": 94
        }
      ]
    },
    {
      "cell_type": "code",
      "source": [
        "await call_agent_async( \"Necesito convertir 1000 euros a pesos mexicanos. ¿Cuánto sería?\",\n",
        "                        runner=runner,\n",
        "                        user_id=USER_ID,\n",
        "                        session_id=SESSION_ID)"
      ],
      "metadata": {
        "colab": {
          "base_uri": "https://localhost:8080/"
        },
        "id": "ghIl2FzoAAHL",
        "outputId": "b747bd8a-c995-4498-8de4-c0797099b682"
      },
      "id": "ghIl2FzoAAHL",
      "execution_count": 95,
      "outputs": [
        {
          "output_type": "stream",
          "name": "stdout",
          "text": [
            "\n",
            ">>> Consulta del usuario: Necesito convertir 1000 euros a pesos mexicanos. ¿Cuánto sería?\n"
          ]
        },
        {
          "output_type": "stream",
          "name": "stderr",
          "text": [
            "WARNING:google_genai.types:Warning: there are non-text parts in the response: ['thought_signature', 'function_call'], returning concatenated text result from text parts. Check the full candidates.content.parts accessor to get the full model response.\n"
          ]
        },
        {
          "output_type": "stream",
          "name": "stdout",
          "text": [
            "<<< Respuesta del agente: 1000 euros equivalen a 20600.0 pesos mexicanos.\n"
          ]
        }
      ]
    },
    {
      "cell_type": "markdown",
      "metadata": {
        "id": "ziN80OZ016IF"
      },
      "source": [
        "## 7. Herramientas Integradas\n",
        "\n",
        "### 7.1 Búsqueda en Google\n",
        "\n",
        "ADK incluye herramientas integradas como la búsqueda en Google."
      ],
      "id": "ziN80OZ016IF"
    },
    {
      "cell_type": "code",
      "execution_count": 97,
      "metadata": {
        "id": "cp7sPs3s16IF"
      },
      "outputs": [],
      "source": [
        "APP_NAME=\"google_search_agent\"\n",
        "USER_ID=\"user1234\"\n",
        "SESSION_ID=\"1234\"\n",
        "\n",
        "agent_search = LlmAgent(\n",
        "    name=\"basic_search_agent\",\n",
        "    model=MODEL_GEMINI,\n",
        "    description=\"Agente para responder preguntas usando google search para la busqueda en internet\",\n",
        "    instruction=\"Responde la pregunta usando busquedas en internet\",\n",
        "    # google_search is a pre-built tool which allows the agent to perform Google searches.\n",
        "    tools=[google_search]\n",
        ")\n",
        "\n",
        "# Session and Runner\n",
        "session_service = InMemorySessionService()\n",
        "session = await session_service.create_session(app_name=APP_NAME, user_id=USER_ID, session_id=SESSION_ID)\n",
        "runner = Runner(agent=agent_search, app_name=APP_NAME, session_service=session_service)"
      ],
      "id": "cp7sPs3s16IF"
    },
    {
      "cell_type": "code",
      "source": [
        "await call_agent_async(\"Que es nano banana\",\n",
        "                       runner=runner,\n",
        "                       user_id=USER_ID,\n",
        "                       session_id=SESSION_ID)"
      ],
      "metadata": {
        "colab": {
          "base_uri": "https://localhost:8080/"
        },
        "id": "Z7gPHM6ABJNI",
        "outputId": "66facdaf-f6dc-4bdc-9f50-794bbf3db2cb"
      },
      "id": "Z7gPHM6ABJNI",
      "execution_count": 98,
      "outputs": [
        {
          "output_type": "stream",
          "name": "stdout",
          "text": [
            "\n",
            ">>> Consulta del usuario: Que es nano banana?\n",
            "<<< Respuesta del agente: \"Nano Banana\" es un modelo de inteligencia artificial (IA) generativa de imágenes que ha ganado notable atención por su capacidad excepcional para crear y editar imágenes a partir de descripciones de texto. Aunque inicialmente su origen era un misterio, ha sido ampliamente vinculado con Google debido a la alta calidad de las imágenes que produce, la costumbre de Google de usar nombres de frutas para sus proyectos internos y pistas compartidas por empleados de la compañía. Recientemente, Google confirmó que \"Nano Banana\" es el nombre con el que se conocía a su modelo Gemini 2.5 Flash Image.\n",
            "\n",
            "Entre sus características y capacidades más destacadas se encuentran:\n",
            "*   **Edición y generación de imágenes a partir de texto** Permite modificar o crear imágenes simplemente describiendo lo que se desea cambiar o generar, haciendo que la edición avanzada sea accesible para todos.\n",
            "*   **Consistencia y precisión** Es capaz de mantener la coherencia en el estilo, los personajes, los detalles y la integridad de la escena a lo largo de diferentes ediciones o generaciones, evitando las \"alucinaciones visuales\" que a veces presentan otros modelos.\n",
            "*   **Velocidad** Destaca por su rapidez, transformando las instrucciones en resultados utilizables en cuestión de segundos, lo que lo hace ideal para flujos de trabajo ágiles.\n",
            "*   **Versatilidad** Puede generar diversos estilos de imágenes, desde ilustraciones hasta fotografías hiperrealistas, y es capaz de manejar tareas complejas como mejorar fotos borrosas, fusionar imágenes o transformar escenas completas.\n",
            "*   **Potencial reemplazo de software tradicional** Se ha especulado que \"Nano Banana\" podría competir con herramientas de edición gráfica tradicionales como Photoshop, ya que permite realizar modificaciones complejas sin necesidad de capas o ajustes manuales.\n",
            "\n",
            "\"Nano Banana\" apareció por primera vez de manera discreta en LMArena, una plataforma de comparación donde los usuarios pueden evaluar modelos de IA, y rápidamente se hizo notar por su rendimiento superior.\n"
          ]
        }
      ]
    },
    {
      "cell_type": "markdown",
      "metadata": {
        "id": "kXNaiSeC16IN"
      },
      "source": [
        "## 🎉 ¡Felicitaciones!\n",
        "\n",
        "Has completado el tutorial completo de ADK en español. Ahora tienes las herramientas y conocimientos para crear agentes inteligentes poderosos.\n",
        "\n",
        "### Próximos Pasos:\n",
        "\n",
        "1. Experimenta con diferentes combinaciones de herramientas\n",
        "2. Crea agentes especializados para tu dominio\n",
        "3. Explora integraciones con APIs externas\n",
        "4. Construye aplicaciones completas con múltiples agentes\n",
        "\n",
        "¡Buena suerte en tu viaje con ADK! 🚀"
      ],
      "id": "kXNaiSeC16IN"
    }
  ],
  "metadata": {
    "kernelspec": {
      "display_name": "Python 3",
      "language": "python",
      "name": "python3"
    },
    "language_info": {
      "codemirror_mode": {
        "name": "ipython",
        "version": 3
      },
      "file_extension": ".py",
      "mimetype": "text/x-python",
      "name": "python",
      "nbconvert_exporter": "python",
      "pygments_lexer": "ipython3",
      "version": "3.10.0"
    },
    "colab": {
      "provenance": []
    }
  },
  "nbformat": 4,
  "nbformat_minor": 5
}
